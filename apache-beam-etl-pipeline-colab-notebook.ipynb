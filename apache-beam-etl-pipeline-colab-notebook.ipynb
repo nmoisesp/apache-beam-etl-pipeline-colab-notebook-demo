{
  "nbformat": 4,
  "nbformat_minor": 0,
  "metadata": {
    "colab": {
      "provenance": []
    },
    "kernelspec": {
      "name": "python3",
      "display_name": "Python 3"
    },
    "language_info": {
      "name": "python"
    }
  },
  "cells": [
    {
      "cell_type": "code",
      "execution_count": null,
      "metadata": {
        "id": "jKETpJQkxOXw"
      },
      "outputs": [],
      "source": [
        "pip install apache-beam[interactive]"
      ]
    },
    {
      "cell_type": "code",
      "source": [
        "# @title Apache Beam ETL Pipeline: CSV file processing (movielist.csv)\n",
        "import apache_beam as beam\n",
        "import re\n",
        "import apache_beam.runners.interactive.interactive_beam as ib\n",
        "\n",
        "p1 = beam.Pipeline()\n",
        "\n",
        "class FormatElements(beam.DoFn):\n",
        "  def process(self,record):\n",
        "    year, producers = record\n",
        "    raw_str_producers = re.sub(r'\\s*, and | and \\s*|, ', ',', producers)\n",
        "    producers = raw_str_producers.split(',')\n",
        "\n",
        "    rows = []\n",
        "\n",
        "    if (len(producers) > 0):\n",
        "      for idx, producer in enumerate(producers):\n",
        "        rows.append(producer + \",\" + str(year))\n",
        "\n",
        "    return rows\n",
        "\n",
        "class CalculateYearsInterval(beam.DoFn):\n",
        "  def process(self,record):\n",
        "    key, value = record\n",
        "    years = []\n",
        "\n",
        "    for idx, year in enumerate(value):\n",
        "      years.append(year[1])\n",
        "\n",
        "    years.sort()\n",
        "\n",
        "    followingWin = int(years[len(years) -1])\n",
        "    previousWin = int(years[len(years) -2])\n",
        "    interval = (followingWin - previousWin)\n",
        "\n",
        "    row = key, previousWin, followingWin, interval\n",
        "\n",
        "    return [row]\n",
        "\n",
        "load_csv = (\n",
        "    p1\n",
        "      | \"Import movie list\" >> beam.io.ReadFromText(\"movielist.csv\", skip_header_lines = 1)\n",
        "      | \"Split by comma\" >> beam.Map(lambda record: record.split(';'))\n",
        "      | \"Filter by winners\" >> beam.Filter(lambda record: record[4] == \"yes\")\n",
        "      | \"Map producers and year columns\" >> beam.Map(lambda record: [record[0], record[3]])\n",
        "      | \"Format elements\" >> beam.ParDo(FormatElements())\n",
        "      | \"Split Producer and Year by comma\" >> beam.Map(lambda producers: producers.split(','))\n",
        "      | \"Group By producer's key\" >> beam.GroupBy(lambda producer: producer[0])\n",
        "      | \"Filter Producers with more than 2 awards\" >> beam.Filter(lambda record: len(record[1]) > 1)\n",
        "      | \"Calculate Years Interval\" >> beam.ParDo(CalculateYearsInterval())\n",
        "#      | \"Write to Text\" >> beam.io.WriteToText('results.txt')\n",
        "      | \"Print Results Year\" >> beam.Map(print)\n",
        "    )\n",
        "\n",
        "p1.run()"
      ],
      "metadata": {
        "colab": {
          "base_uri": "https://localhost:8080/"
        },
        "id": "yDuIeNUZyTBL",
        "outputId": "dbfef618-8067-4c0a-cef0-c2aa465a2922"
      },
      "execution_count": 3,
      "outputs": [
        {
          "output_type": "stream",
          "name": "stdout",
          "text": [
            "('Bo Derek', 1991, 2000, 9)\n",
            "('Buzz Feitshans', 1985, 1994, 9)\n",
            "('Joel Silver', 1990, 1991, 1)\n",
            "('Matthew Vaughn', 2013, 2014, 1)\n"
          ]
        },
        {
          "output_type": "execute_result",
          "data": {
            "text/plain": [
              "<apache_beam.runners.portability.fn_api_runner.fn_runner.RunnerResult at 0x7bcf8246bdf0>"
            ]
          },
          "metadata": {},
          "execution_count": 3
        }
      ]
    }
  ]
}