{
  "nbformat": 4,
  "nbformat_minor": 0,
  "metadata": {
    "colab": {
      "provenance": []
    },
    "kernelspec": {
      "name": "python3",
      "display_name": "Python 3"
    },
    "language_info": {
      "name": "python"
    }
  },
  "cells": [
    {
      "cell_type": "code",
      "execution_count": null,
      "metadata": {
        "id": "jKETpJQkxOXw"
      },
      "outputs": [],
      "source": [
        "pip install apache-beam[interactive]"
      ]
    },
    {
      "cell_type": "code",
      "source": [
        "import apache_beam as beam\n",
        "import re\n",
        "import apache_beam.runners.interactive.interactive_beam as ib\n",
        "\n",
        "p1 = beam.Pipeline()\n",
        "\n",
        "class FormatElements(beam.DoFn):\n",
        "  def process(self,record):\n",
        "    year, producers = record\n",
        "    raw_str_producers = re.sub(r'\\s*, and | and \\s*|, ', ',', producers)\n",
        "    producers = raw_str_producers.split(',')\n",
        "\n",
        "    rows = []\n",
        "\n",
        "    if (len(producers) > 0):\n",
        "      for idx, producer in enumerate(producers):\n",
        "        rows.append(producer + \",\" + str(year))\n",
        "\n",
        "    return rows\n",
        "\n",
        "class CalculateYearsInterval(beam.DoFn):\n",
        "  def process(self,record):\n",
        "    key, value = record\n",
        "    years = []\n",
        "\n",
        "    for idx, year in enumerate(value):\n",
        "      years.append(year[1])\n",
        "\n",
        "    years.sort()\n",
        "\n",
        "    followingWin = int(years[len(years) -1])\n",
        "    previousWin = int(years[len(years) -2])\n",
        "    interval = (followingWin - previousWin)\n",
        "\n",
        "    row = key, previousWin, followingWin, interval\n",
        "\n",
        "    return [row]\n",
        "\n",
        "load_csv = (\n",
        "    p1\n",
        "      | \"Import movie list\" >> beam.io.ReadFromText(\"movielist.csv\", skip_header_lines = 1)\n",
        "      | \"Split by comma\" >> beam.Map(lambda record: record.split(';'))\n",
        "      | \"Filter by winners\" >> beam.Filter(lambda record: record[4] == \"yes\")\n",
        "      | \"Map producers and year columns\" >> beam.Map(lambda record: [record[0], record[3]])\n",
        "      | \"Format elements\" >> beam.ParDo(FormatElements())\n",
        "      | \"Split Producer and Year by comma\" >> beam.Map(lambda producers: producers.split(','))\n",
        "      | \"Group By producer's key\" >> beam.GroupBy(lambda producer: producer[0])\n",
        "      | \"Filter Producers with more than 2 awards\" >> beam.Filter(lambda record: len(record[1]) > 1)\n",
        "      | \"Calculate Years Interval\" >> beam.ParDo(CalculateYearsInterval())\n",
        "      | \"Write to Text\" >> beam.io.WriteToText('results.txt')\n",
        "      | \"Print Results Year\" >> beam.Map(print)\n",
        "    )\n",
        "\n",
        "p1.run()"
      ],
      "metadata": {
        "colab": {
          "base_uri": "https://localhost:8080/"
        },
        "id": "yDuIeNUZyTBL",
        "outputId": "73c70828-29f9-4991-ccab-3caa360a9c22"
      },
      "execution_count": null,
      "outputs": [
        {
          "output_type": "stream",
          "name": "stdout",
          "text": [
            "['Allan Carr', '1980']\n",
            "['Frank Yablans', '1981']\n",
            "['Mitsuharu Ishii', '1982']\n",
            "['Robert R. Weston', '1983']\n",
            "['Bo Derek', '1984']\n",
            "['Buzz Feitshans', '1985']\n",
            "['Gloria Katz', '1986']\n",
            "['Bob Cavallo', '1986']\n",
            "['Joe Ruffalo', '1986']\n",
            "['Steve Fargnoli', '1986']\n",
            "['Bill Cosby', '1987']\n",
            "['Ted Field', '1988']\n",
            "['Robert W. Cort', '1988']\n",
            "['Harve Bennett', '1989']\n",
            "['Steven Perry', '1990']\n",
            "['Joel Silver', '1990']\n",
            "['Bo Derek', '1990']\n",
            "['Joel Silver', '1991']\n",
            "['Carol Baum', '1992']\n",
            "['Howard Rosenman', '1992']\n",
            "['Sherry Lansing', '1993']\n",
            "['Buzz Feitshans', '1994']\n",
            "['David Matalon', '1994']\n",
            "['Charles Evans', '1995']\n",
            "['Alan Marshall', '1995']\n",
            "['Andrew Bergman', '1996']\n",
            "['Mike Lobell', '1996']\n",
            "['Kevin Costner', '1997']\n",
            "['Steve Tisch', '1997']\n",
            "['Jim Wilson', '1997']\n",
            "['Ben Myron', '1998']\n",
            "['Joe Eszterhas', '1998']\n",
            "['Jon Peters', '1999']\n",
            "['Barry Sonnenfeld', '1999']\n",
            "['Jonathan D. Krane', '2000']\n",
            "['Elie Samaha', '2000']\n",
            "['John Travolta', '2000']\n",
            "['Larry Brezner', '2001']\n",
            "['Howard Lapides', '2001']\n",
            "['Lauren Lloyd', '2001']\n",
            "['Matthew Vaughn', '2002']\n",
            "['Martin Brest', '2003']\n",
            "['Casey Silver', '2003']\n",
            "['Denise Di Novi', '2004']\n",
            "['Edward McDonnell', '2004']\n",
            "['John Mallory Asher', '2005']\n",
            "['BJ Davis', '2005']\n",
            "['Rod Hamilton', '2005']\n",
            "['Kimberley Kates', '2005']\n",
            "['Michael Manasseri', '2005']\n",
            "['Jenny McCarthy', '2005']\n",
            "['Trent Walford', '2005']\n",
            "['Mario Kassar', '2006']\n",
            "['Joel B. Michaels', '2006']\n",
            "['Andrew G. Vajna', '2006']\n",
            "['Gary Barber', '2008']\n",
            "['Michael DeLuca', '2008']\n",
            "['Mike Myers', '2008']\n",
            "['Lorenzo di Bonaventura', '2009']\n",
            "['Ian Bryce', '2009']\n",
            "['Tom DeSanto', '2009']\n",
            "['Don Murphy', '2009']\n",
            "['Frank Marshall', '2010']\n",
            "['Kathleen Kennedy', '2010']\n",
            "['Sam Mercer', '2010']\n",
            "['M. Night Shyamalan', '2010']\n",
            "['Todd Garner', '2011']\n",
            "['Jack Giarraputo', '2011']\n",
            "['Adam Sandler', '2011']\n",
            "['Wyck Godfrey', '2012']\n",
            "['Stephenie Meyer', '2012']\n",
            "['Karen Rosenfelt', '2012']\n",
            "['Peter Farrelly', '2013']\n",
            "['Ryan Kavanaugh', '2013']\n",
            "['John Penotti', '2013']\n",
            "['Charles B. Wessler', '2013']\n",
            "['Darren Doane', '2014']\n",
            "['Raphi Henley', '2014']\n",
            "['Amanda Rosser', '2014']\n",
            "['David Shannon', '2014']\n",
            "['Simon Kinberg', '2015']\n",
            "['Matthew Vaughn', '2015']\n",
            "['Hutch Parker', '2015']\n",
            "['Robert Kulzer', '2015']\n",
            "['Gregory Goodman', '2015']\n",
            "['Michael De Luca', '2015']\n",
            "['Dana Brunetti', '2015']\n",
            "['E. L. James', '2015']\n",
            "['Gerald R. Molen', '2016']\n",
            "['Michelle Raimo Kouyate', '2017']\n",
            "['Will Ferrell', '2018']\n",
            "['Adam McKay', '2018']\n",
            "['Jimmy Miller', '2018']\n",
            "['Clayton Townsend', '2018']\n",
            "['Debra Hayward', '2019']\n",
            "['Tim Bevan', '2019']\n",
            "['Eric Fellner', '2019']\n",
            "['Tom Hooper', '2019']\n",
            "['Bo Derek', '1986']\n",
            "['Bo Derek', '1991']\n",
            "['Bo Derek', '1995']\n",
            "['Matthew Vaughn', '2013']\n"
          ]
        },
        {
          "output_type": "execute_result",
          "data": {
            "text/plain": [
              "<apache_beam.runners.portability.fn_api_runner.fn_runner.RunnerResult at 0x7c158b00fcd0>"
            ]
          },
          "metadata": {},
          "execution_count": 4
        }
      ]
    },
    {
      "cell_type": "markdown",
      "source": [
        "# New Section"
      ],
      "metadata": {
        "id": "s_TBu8nsvSJ_"
      }
    },
    {
      "cell_type": "code",
      "source": [],
      "metadata": {
        "id": "37MWHlEeiTrz"
      },
      "execution_count": null,
      "outputs": []
    },
    {
      "cell_type": "code",
      "source": [
        "import apache_beam as beam\n",
        "#import re\n",
        "\n",
        "p1 = beam.Pipeline()\n",
        "\n",
        "movie_winners_by_year = (\n",
        "    p1\n",
        "      | \"Import Data Year\" >> beam.io.ReadFromText(\"movielist.csv\", skip_header_lines = 1)\n",
        "      | \"Split by comma Year\" >> beam.Map(lambda record: record.split(';'))\n",
        "      | \"Filter By Winners Year\" >> beam.Filter(lambda record: record[4] == \"yes\")\n",
        "      | \"Map Producers Year2\" >> beam.Map(lambda record: [record[0], record[3]])\n",
        "      | \"Print Results Year\" >> beam.Map(lambda record: print(record[1]))\n",
        ")\n",
        "\n",
        "\n",
        "p1.run()"
      ],
      "metadata": {
        "id": "q4_L9I4KyZRD"
      },
      "execution_count": null,
      "outputs": []
    }
  ]
}